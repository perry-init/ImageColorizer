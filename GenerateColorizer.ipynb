{
 "cells": [
  {
   "cell_type": "code",
   "execution_count": null,
   "id": "cb130ae4",
   "metadata": {},
   "outputs": [],
   "source": [
    "%matplotlib inline\n",
    "import numpy as np\n",
    "import matplotlib.pyplot as plt\n",
    "from skimage import io, color\n",
    "\n",
    "import torch\n",
    "from torch.utils.data import random_split\n",
    "from torchvision import datasets, transforms\n",
    "from torch.utils.data import DataLoader, Subset\n",
    "\n",
    "from Color import Colorizer, train_model, generate_colored_image\n",
    "from util import calculate_metrics, collect_image_paths,CustomDataset"
   ]
  },
  {
   "cell_type": "code",
   "execution_count": null,
   "id": "cf563ebd",
   "metadata": {},
   "outputs": [],
   "source": [
    "batch_size = 128\n",
    "num_epochs = 30\n",
    "learning_rate = 1e-3\n",
    "use_gpu = True"
   ]
  },
  {
   "cell_type": "code",
   "execution_count": null,
   "id": "14980a4c",
   "metadata": {},
   "outputs": [],
   "source": [
    "# Define the data transformation for L channel\n",
    "data_transform = transforms.Compose([\n",
    "    transforms.ToTensor(),\n",
    "    transforms.Lambda(lambda x: x.to(torch.float32)),\n",
    "])\n",
    "\n",
    "data_dir = \"./data/stanford\"  # Path to the 'stanford' directory\n",
    "image_filenames = collect_image_paths(data_dir)"
   ]
  },
  {
   "cell_type": "code",
   "execution_count": null,
   "id": "c600e114",
   "metadata": {},
   "outputs": [],
   "source": [
    "# Create a dataset using the filtered image paths\n",
    "dataset = CustomDataset(image_filenames, transform=data_transform)\n",
    "# dataset = Subset(dataset, range(10000))\n",
    "\n",
    "\n",
    "# Define the sizes of the training and testing datasets\n",
    "train_size = 0.7  # 70% for training\n",
    "validation_size = 0.15  # 15% for validation\n",
    "test_size = 0.15  # 15% for testing\n",
    "\n",
    "# Split the dataset\n",
    "train_dataset, test_dataset, validation_dataset = random_split(dataset, [train_size, test_size, validation_size])"
   ]
  },
  {
   "cell_type": "code",
   "execution_count": null,
   "id": "61cd40fa",
   "metadata": {},
   "outputs": [],
   "source": [
    "train_dataloader = DataLoader(train_dataset, batch_size=batch_size, shuffle=True)\n",
    "test_dataloader = DataLoader(test_dataset, batch_size=batch_size, shuffle=True)\n",
    "validation_dataloader = DataLoader(validation_dataset, batch_size=batch_size, shuffle=True)\n",
    "\n",
    "device = torch.device(\"cuda:0\" if use_gpu and torch.cuda.is_available() else \"cpu\")"
   ]
  },
  {
   "cell_type": "code",
   "execution_count": null,
   "id": "6d309678",
   "metadata": {},
   "outputs": [],
   "source": [
    "cnet = Colorizer()\n",
    "cnet = cnet.to(device)\n",
    "\n",
    "optimizer = torch.optim.Adam(params=cnet.parameters(), lr=learning_rate, weight_decay=1e-4)"
   ]
  },
  {
   "cell_type": "code",
   "execution_count": null,
   "id": "a5d90256",
   "metadata": {},
   "outputs": [],
   "source": [
    "cnet, psnr, ssim = train_model(cnet, num_epochs, train_dataloader, validation_dataloader, device, optimizer)"
   ]
  },
  {
   "cell_type": "code",
   "execution_count": null,
   "id": "f7d7c981",
   "metadata": {},
   "outputs": [],
   "source": [
    "psnr_test, ssim_test = calculate_metrics(cnet, test_dataloader, device)\n",
    "print('Test - PSNR: ',psnr_test, ' - SSIM: ',ssim_test )"
   ]
  },
  {
   "cell_type": "code",
   "execution_count": null,
   "id": "2ffe7fa1",
   "metadata": {},
   "outputs": [],
   "source": [
    "name = ...\n",
    "torch.save(cnet.state_dict(), 'models/'+str(name))"
   ]
  },
  {
   "cell_type": "code",
   "execution_count": null,
   "id": "eb11060e",
   "metadata": {},
   "outputs": [],
   "source": [
    "fig = plt.figure(figsize=(15, 5))\n",
    "plt.plot(ssim)\n",
    "plt.xlabel('Epochs')\n",
    "plt.ylabel('SSIM')\n",
    "plt.show()"
   ]
  },
  {
   "cell_type": "code",
   "execution_count": null,
   "id": "8e89b1cc",
   "metadata": {},
   "outputs": [],
   "source": [
    "fig = plt.figure(figsize=(15, 5))\n",
    "plt.plot(psnr)\n",
    "plt.xlabel('Epochs')\n",
    "plt.ylabel('PSNR')\n",
    "plt.show()"
   ]
  }
 ],
 "metadata": {
  "kernelspec": {
   "display_name": "Python 3 (ipykernel)",
   "language": "python",
   "name": "python3"
  },
  "language_info": {
   "codemirror_mode": {
    "name": "ipython",
    "version": 3
   },
   "file_extension": ".py",
   "mimetype": "text/x-python",
   "name": "python",
   "nbconvert_exporter": "python",
   "pygments_lexer": "ipython3",
   "version": "3.11.3"
  }
 },
 "nbformat": 4,
 "nbformat_minor": 5
}
